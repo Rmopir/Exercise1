{
 "cells": [
  {
   "cell_type": "markdown",
   "metadata": {},
   "source": [
    "<center>\n",
    "    <img src=\"https://cf-courses-data.s3.us.cloud-object-storage.appdomain.cloud/IBMDeveloperSkillsNetwork-DS0105EN-SkillsNetwork/labs/Module2/images/SN_web_lightmode.png\" width=\"300\" alt=\"cognitiveclass.ai logo\">\n",
    "</center>\n"
   ]
  },
  {
   "cell_type": "markdown",
   "metadata": {},
   "source": [
    "#### Add your code below following the instructions given in the course\n"
   ]
  },
  {
   "cell_type": "markdown",
   "metadata": {},
   "source": [
    "# Data Science Tools and Ecosystem"
   ]
  },
  {
   "cell_type": "markdown",
   "metadata": {},
   "source": [
    "#### Objectives:"
   ]
  },
  {
   "cell_type": "markdown",
   "metadata": {},
   "source": [
    "- List of the popular languages that Data Scientists use\n",
    "- List of commonly used libraries by Data Scientists\n",
    "- List of some Data Science Tools\n",
    "- Multiplying and Adding integers\n",
    "- Converting minutes to hours"
   ]
  },
  {
   "cell_type": "markdown",
   "metadata": {},
   "source": [
    "### In this notebook, Data Science Tools and Ecosystem are summarized."
   ]
  },
  {
   "cell_type": "markdown",
   "metadata": {
    "tags": []
   },
   "source": [
    "#### Some of the popular languages that Data Scientists use are:"
   ]
  },
  {
   "cell_type": "markdown",
   "metadata": {},
   "source": [
    "1. Python\n",
    "2. R\n",
    "3. Python: Widely used for data analysis, machine learning, and deep learning due to its extensive libraries like pandas, NumPy, scikit-learn, TensorFlow, and more.\n",
    "4. R: Preferred for statistical analysis, data visualization, and data mining. Popular libraries include ggplot2, dplyr, and caret.\n",
    "5. SQL: Essential for querying databases, extracting, and manipulating data stored in relational databases.\n",
    "6. Julia: Known for its high performance, particularly in numerical and scienti}fic computing, and is gaining popularity in data science."
   ]
  },
  {
   "cell_type": "markdown",
   "metadata": {
    "tags": []
   },
   "source": [
    "#### Some of the commonly used libraries used by Data Scientists include:"
   ]
  },
  {
   "cell_type": "markdown",
   "metadata": {
    "tags": []
   },
   "source": [
    "##### For Python:"
   ]
  },
  {
   "cell_type": "markdown",
   "metadata": {
    "tags": []
   },
   "source": [
    "1. pandas: Essential for data manipulation and analysis, providing data structures like DataFrames.\n",
    "2. NumPy: Fundamental for numerical computing, providing support for large, multi-dimensional arrays and matrices.\n",
    "3. matplotlib: A primary library for creating static, animated, and interactive visualizations.\n",
    "4. seaborn: Built on top of matplotlib, it offers a high-level interface for drawing attractive statistical graphics.\n",
    "5. scikit-learn: A robust library for machine learning, including tools for classification, regression, clustering, and more.\n",
    "6. TensorFlow: A leading library for deep learning and neural networks, developed by Google.\n",
    "7. Keras: A high-level neural networks API, often used with TensorFlow for building and training deep learning models."
   ]
  },
  {
   "cell_type": "markdown",
   "metadata": {
    "tags": []
   },
   "source": [
    "##### For R:"
   ]
  },
  {
   "cell_type": "markdown",
   "metadata": {},
   "source": [
    "1. ggplot2: A widely-used library for creating complex and customizable visualizations.\n",
    "2. dplyr: A grammar of data manipulation, providing a consistent set of functions for filtering, summarizing, and transforming data.\n",
    "3. atidyr: Helps in tidying data, making it easier to work with.\n",
    "4. caret: A comprehensive package for building predictive models.\n",
    "5. data.table: An extension of data.frames that allows for fast aggregation of large data sets.\n",
    "6. shiny: For building interactive web applications straight from R.\n",
    "7. lattice: For creating trellis graphics, which are useful for visualizing multivariate data.\n",
    "8. randomForest: For implementing random forest models for classification and regression tasks.\n",
    "9. forecast: Used for time series analysis and forecasting."
   ]
  },
  {
   "cell_type": "markdown",
   "metadata": {},
   "source": [
    "##### For SQL:"
   ]
  },
  {
   "cell_type": "markdown",
   "metadata": {},
   "source": [
    "1. SQLAlchemy: A SQL toolkit and Object-Relational Mapping (ORM) library for Python.\n",
    "2. pandasql: Allows SQL queries on pandas DataFrames.\n",
    "3. dbplyr: An R package that allows dplyr syntax to be used for SQL databases."
   ]
  },
  {
   "cell_type": "markdown",
   "metadata": {
    "tags": []
   },
   "source": [
    "#### Data Science Tools"
   ]
  },
  {
   "cell_type": "markdown",
   "metadata": {},
   "source": [
    "|Data Science Tools||\n",
    "|-|-|\n",
    "|Jupyter Notebook:|A web-based interactive development environment that allows you to create and share documents that contain live code, equations, visualizations, and narrative text. It's widely used for data cleaning, transformation, visualization, and machine learning.|\n",
    "|RStudio:| An integrated development environment (IDE) for R, a programming language for statistical computing and graphics. It provides a console, syntax-highlighting editor, and tools for plotting, history, debugging, and workspace management.|\n",
    "|VS Code (Visual Studio Code):|A lightweight but powerful source code editor that supports various programming languages, including Python, R, and Julia. It is highly customizable with extensions for data science, such as Python, Jupyter, and Docker.|"
   ]
  },
  {
   "cell_type": "markdown",
   "metadata": {
    "tags": []
   },
   "source": [
    "#### Create a code cell to multiply and add numbers"
   ]
  },
  {
   "cell_type": "markdown",
   "metadata": {
    "tags": []
   },
   "source": [
    "##### This is a simple arithmetic expression to multiply then add integers"
   ]
  },
  {
   "cell_type": "code",
   "execution_count": 11,
   "metadata": {
    "tags": []
   },
   "outputs": [
    {
     "data": {
      "text/plain": [
       "17"
      ]
     },
     "execution_count": 11,
     "metadata": {},
     "output_type": "execute_result"
    }
   ],
   "source": [
    "(3*4)+5"
   ]
  },
  {
   "cell_type": "markdown",
   "metadata": {
    "tags": []
   },
   "source": [
    "#### Create a code cell to convert minutes to hours"
   ]
  },
  {
   "cell_type": "markdown",
   "metadata": {
    "tags": []
   },
   "source": [
    "##### This will convert 200 minutes to hours by dividing by 60"
   ]
  },
  {
   "cell_type": "code",
   "execution_count": 10,
   "metadata": {
    "tags": []
   },
   "outputs": [
    {
     "data": {
      "text/plain": [
       "3.3333333333333335"
      ]
     },
     "execution_count": 10,
     "metadata": {},
     "output_type": "execute_result"
    }
   ],
   "source": [
    "minutes = 200\n",
    "hours = minutes / 60\n",
    "hours"
   ]
  },
  {
   "cell_type": "markdown",
   "metadata": {
    "tags": []
   },
   "source": [
    "## Author"
   ]
  },
  {
   "cell_type": "markdown",
   "metadata": {},
   "source": [
    "Rafael Morandi Piccoli Rocha"
   ]
  },
  {
   "cell_type": "code",
   "execution_count": null,
   "metadata": {},
   "outputs": [],
   "source": []
  }
 ],
 "metadata": {
  "kernelspec": {
   "display_name": "Python",
   "language": "python",
   "name": "conda-env-python-py"
  },
  "language_info": {
   "codemirror_mode": {
    "name": "ipython",
    "version": 3
   },
   "file_extension": ".py",
   "mimetype": "text/x-python",
   "name": "python",
   "nbconvert_exporter": "python",
   "pygments_lexer": "ipython3",
   "version": "3.7.12"
  }
 },
 "nbformat": 4,
 "nbformat_minor": 4
}
